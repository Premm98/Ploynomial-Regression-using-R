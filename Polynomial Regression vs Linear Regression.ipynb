{
 "cells": [
  {
   "cell_type": "code",
   "execution_count": 1,
   "metadata": {},
   "outputs": [],
   "source": [
    "data <- read.csv('Position_Salaries.csv')"
   ]
  },
  {
   "cell_type": "code",
   "execution_count": 2,
   "metadata": {},
   "outputs": [
    {
     "data": {
      "text/html": [
       "<table>\n",
       "<thead><tr><th scope=col>Position</th><th scope=col>Level</th><th scope=col>Salary</th></tr></thead>\n",
       "<tbody>\n",
       "\t<tr><td>Business Analyst </td><td>1                </td><td>45000            </td></tr>\n",
       "\t<tr><td>Junior Consultant</td><td>2                </td><td>50000            </td></tr>\n",
       "</tbody>\n",
       "</table>\n"
      ],
      "text/latex": [
       "\\begin{tabular}{r|lll}\n",
       " Position & Level & Salary\\\\\n",
       "\\hline\n",
       "\t Business Analyst  & 1                 & 45000            \\\\\n",
       "\t Junior Consultant & 2                 & 50000            \\\\\n",
       "\\end{tabular}\n"
      ],
      "text/markdown": [
       "\n",
       "| Position | Level | Salary |\n",
       "|---|---|---|\n",
       "| Business Analyst  | 1                 | 45000             |\n",
       "| Junior Consultant | 2                 | 50000             |\n",
       "\n"
      ],
      "text/plain": [
       "  Position          Level Salary\n",
       "1 Business Analyst  1     45000 \n",
       "2 Junior Consultant 2     50000 "
      ]
     },
     "metadata": {},
     "output_type": "display_data"
    }
   ],
   "source": [
    "head(data,2)"
   ]
  },
  {
   "cell_type": "code",
   "execution_count": 3,
   "metadata": {},
   "outputs": [
    {
     "name": "stderr",
     "output_type": "stream",
     "text": [
      "Warning message in if (is.na(data)) {:\n",
      "\"the condition has length > 1 and only the first element will be used\""
     ]
    },
    {
     "data": {
      "text/html": [
       "FALSE"
      ],
      "text/latex": [
       "FALSE"
      ],
      "text/markdown": [
       "FALSE"
      ],
      "text/plain": [
       "[1] FALSE"
      ]
     },
     "metadata": {},
     "output_type": "display_data"
    }
   ],
   "source": [
    "if(is.na(data)){\n",
    "    return(TRUE)\n",
    "}else\n",
    "    return(FALSE)"
   ]
  },
  {
   "cell_type": "code",
   "execution_count": 4,
   "metadata": {},
   "outputs": [
    {
     "data": {
      "text/html": [
       "<table>\n",
       "<thead><tr><th scope=col>Position</th><th scope=col>Level</th><th scope=col>Salary</th></tr></thead>\n",
       "<tbody>\n",
       "\t<tr><td>Business Analyst </td><td> 1               </td><td>  45000          </td></tr>\n",
       "\t<tr><td>Junior Consultant</td><td> 2               </td><td>  50000          </td></tr>\n",
       "\t<tr><td>Senior Consultant</td><td> 3               </td><td>  60000          </td></tr>\n",
       "\t<tr><td>Manager          </td><td> 4               </td><td>  80000          </td></tr>\n",
       "\t<tr><td>Country Manager  </td><td> 5               </td><td> 110000          </td></tr>\n",
       "\t<tr><td>Region Manager   </td><td> 6               </td><td> 150000          </td></tr>\n",
       "\t<tr><td>Partner          </td><td> 7               </td><td> 200000          </td></tr>\n",
       "\t<tr><td>Senior Partner   </td><td> 8               </td><td> 300000          </td></tr>\n",
       "\t<tr><td>C-level          </td><td> 9               </td><td> 500000          </td></tr>\n",
       "\t<tr><td>CEO              </td><td>10               </td><td>1000000          </td></tr>\n",
       "</tbody>\n",
       "</table>\n"
      ],
      "text/latex": [
       "\\begin{tabular}{r|lll}\n",
       " Position & Level & Salary\\\\\n",
       "\\hline\n",
       "\t Business Analyst  &  1                &   45000          \\\\\n",
       "\t Junior Consultant &  2                &   50000          \\\\\n",
       "\t Senior Consultant &  3                &   60000          \\\\\n",
       "\t Manager           &  4                &   80000          \\\\\n",
       "\t Country Manager   &  5                &  110000          \\\\\n",
       "\t Region Manager    &  6                &  150000          \\\\\n",
       "\t Partner           &  7                &  200000          \\\\\n",
       "\t Senior Partner    &  8                &  300000          \\\\\n",
       "\t C-level           &  9                &  500000          \\\\\n",
       "\t CEO               & 10                & 1000000          \\\\\n",
       "\\end{tabular}\n"
      ],
      "text/markdown": [
       "\n",
       "| Position | Level | Salary |\n",
       "|---|---|---|\n",
       "| Business Analyst  |  1                |   45000           |\n",
       "| Junior Consultant |  2                |   50000           |\n",
       "| Senior Consultant |  3                |   60000           |\n",
       "| Manager           |  4                |   80000           |\n",
       "| Country Manager   |  5                |  110000           |\n",
       "| Region Manager    |  6                |  150000           |\n",
       "| Partner           |  7                |  200000           |\n",
       "| Senior Partner    |  8                |  300000           |\n",
       "| C-level           |  9                |  500000           |\n",
       "| CEO               | 10                | 1000000           |\n",
       "\n"
      ],
      "text/plain": [
       "   Position          Level Salary \n",
       "1  Business Analyst   1      45000\n",
       "2  Junior Consultant  2      50000\n",
       "3  Senior Consultant  3      60000\n",
       "4  Manager            4      80000\n",
       "5  Country Manager    5     110000\n",
       "6  Region Manager     6     150000\n",
       "7  Partner            7     200000\n",
       "8  Senior Partner     8     300000\n",
       "9  C-level            9     500000\n",
       "10 CEO               10    1000000"
      ]
     },
     "metadata": {},
     "output_type": "display_data"
    }
   ],
   "source": [
    "data"
   ]
  },
  {
   "cell_type": "code",
   "execution_count": 7,
   "metadata": {},
   "outputs": [],
   "source": [
    "data <- data[2:3]"
   ]
  },
  {
   "cell_type": "code",
   "execution_count": 8,
   "metadata": {},
   "outputs": [
    {
     "data": {
      "text/html": [
       "<table>\n",
       "<thead><tr><th scope=col>Level</th><th scope=col>Salary</th></tr></thead>\n",
       "<tbody>\n",
       "\t<tr><td> 1     </td><td>  45000</td></tr>\n",
       "\t<tr><td> 2     </td><td>  50000</td></tr>\n",
       "\t<tr><td> 3     </td><td>  60000</td></tr>\n",
       "\t<tr><td> 4     </td><td>  80000</td></tr>\n",
       "\t<tr><td> 5     </td><td> 110000</td></tr>\n",
       "\t<tr><td> 6     </td><td> 150000</td></tr>\n",
       "\t<tr><td> 7     </td><td> 200000</td></tr>\n",
       "\t<tr><td> 8     </td><td> 300000</td></tr>\n",
       "\t<tr><td> 9     </td><td> 500000</td></tr>\n",
       "\t<tr><td>10     </td><td>1000000</td></tr>\n",
       "</tbody>\n",
       "</table>\n"
      ],
      "text/latex": [
       "\\begin{tabular}{r|ll}\n",
       " Level & Salary\\\\\n",
       "\\hline\n",
       "\t  1      &   45000\\\\\n",
       "\t  2      &   50000\\\\\n",
       "\t  3      &   60000\\\\\n",
       "\t  4      &   80000\\\\\n",
       "\t  5      &  110000\\\\\n",
       "\t  6      &  150000\\\\\n",
       "\t  7      &  200000\\\\\n",
       "\t  8      &  300000\\\\\n",
       "\t  9      &  500000\\\\\n",
       "\t 10      & 1000000\\\\\n",
       "\\end{tabular}\n"
      ],
      "text/markdown": [
       "\n",
       "| Level | Salary |\n",
       "|---|---|\n",
       "|  1      |   45000 |\n",
       "|  2      |   50000 |\n",
       "|  3      |   60000 |\n",
       "|  4      |   80000 |\n",
       "|  5      |  110000 |\n",
       "|  6      |  150000 |\n",
       "|  7      |  200000 |\n",
       "|  8      |  300000 |\n",
       "|  9      |  500000 |\n",
       "| 10      | 1000000 |\n",
       "\n"
      ],
      "text/plain": [
       "   Level Salary \n",
       "1   1      45000\n",
       "2   2      50000\n",
       "3   3      60000\n",
       "4   4      80000\n",
       "5   5     110000\n",
       "6   6     150000\n",
       "7   7     200000\n",
       "8   8     300000\n",
       "9   9     500000\n",
       "10 10    1000000"
      ]
     },
     "metadata": {},
     "output_type": "display_data"
    }
   ],
   "source": [
    "data"
   ]
  },
  {
   "cell_type": "code",
   "execution_count": 9,
   "metadata": {},
   "outputs": [],
   "source": [
    "lin_reg <- lm(formula = Salary ~ .,\n",
    "             data = data)"
   ]
  },
  {
   "cell_type": "code",
   "execution_count": 10,
   "metadata": {},
   "outputs": [
    {
     "data": {
      "text/plain": [
       "\n",
       "Call:\n",
       "lm(formula = Salary ~ ., data = data)\n",
       "\n",
       "Residuals:\n",
       "    Min      1Q  Median      3Q     Max \n",
       "-170818 -129720  -40379   65856  386545 \n",
       "\n",
       "Coefficients:\n",
       "            Estimate Std. Error t value Pr(>|t|)   \n",
       "(Intercept)  -195333     124790  -1.565  0.15615   \n",
       "Level          80879      20112   4.021  0.00383 **\n",
       "---\n",
       "Signif. codes:  0 '***' 0.001 '**' 0.01 '*' 0.05 '.' 0.1 ' ' 1\n",
       "\n",
       "Residual standard error: 182700 on 8 degrees of freedom\n",
       "Multiple R-squared:  0.669,\tAdjusted R-squared:  0.6277 \n",
       "F-statistic: 16.17 on 1 and 8 DF,  p-value: 0.003833\n"
      ]
     },
     "metadata": {},
     "output_type": "display_data"
    }
   ],
   "source": [
    "summary(lin_reg)"
   ]
  },
  {
   "cell_type": "code",
   "execution_count": 11,
   "metadata": {},
   "outputs": [],
   "source": [
    "data$Level2 <- data$Level^2\n",
    "data$Level3 <- data$Level^3\n",
    "data$Level4 <- data$Level^4"
   ]
  },
  {
   "cell_type": "code",
   "execution_count": 25,
   "metadata": {},
   "outputs": [],
   "source": [
    "data$Level5 <- data$Level^5"
   ]
  },
  {
   "cell_type": "code",
   "execution_count": 26,
   "metadata": {},
   "outputs": [
    {
     "data": {
      "text/html": [
       "<table>\n",
       "<thead><tr><th scope=col>Level</th><th scope=col>Salary</th><th scope=col>Level2</th><th scope=col>Level3</th><th scope=col>Level4</th><th scope=col>Level5</th></tr></thead>\n",
       "<tbody>\n",
       "\t<tr><td> 1     </td><td>  45000</td><td>  1    </td><td>   1   </td><td>    1  </td><td>     1 </td></tr>\n",
       "\t<tr><td> 2     </td><td>  50000</td><td>  4    </td><td>   8   </td><td>   16  </td><td>    32 </td></tr>\n",
       "\t<tr><td> 3     </td><td>  60000</td><td>  9    </td><td>  27   </td><td>   81  </td><td>   243 </td></tr>\n",
       "\t<tr><td> 4     </td><td>  80000</td><td> 16    </td><td>  64   </td><td>  256  </td><td>  1024 </td></tr>\n",
       "\t<tr><td> 5     </td><td> 110000</td><td> 25    </td><td> 125   </td><td>  625  </td><td>  3125 </td></tr>\n",
       "\t<tr><td> 6     </td><td> 150000</td><td> 36    </td><td> 216   </td><td> 1296  </td><td>  7776 </td></tr>\n",
       "\t<tr><td> 7     </td><td> 200000</td><td> 49    </td><td> 343   </td><td> 2401  </td><td> 16807 </td></tr>\n",
       "\t<tr><td> 8     </td><td> 300000</td><td> 64    </td><td> 512   </td><td> 4096  </td><td> 32768 </td></tr>\n",
       "\t<tr><td> 9     </td><td> 500000</td><td> 81    </td><td> 729   </td><td> 6561  </td><td> 59049 </td></tr>\n",
       "\t<tr><td>10     </td><td>1000000</td><td>100    </td><td>1000   </td><td>10000  </td><td>100000 </td></tr>\n",
       "</tbody>\n",
       "</table>\n"
      ],
      "text/latex": [
       "\\begin{tabular}{r|llllll}\n",
       " Level & Salary & Level2 & Level3 & Level4 & Level5\\\\\n",
       "\\hline\n",
       "\t  1      &   45000 &   1     &    1    &     1   &      1 \\\\\n",
       "\t  2      &   50000 &   4     &    8    &    16   &     32 \\\\\n",
       "\t  3      &   60000 &   9     &   27    &    81   &    243 \\\\\n",
       "\t  4      &   80000 &  16     &   64    &   256   &   1024 \\\\\n",
       "\t  5      &  110000 &  25     &  125    &   625   &   3125 \\\\\n",
       "\t  6      &  150000 &  36     &  216    &  1296   &   7776 \\\\\n",
       "\t  7      &  200000 &  49     &  343    &  2401   &  16807 \\\\\n",
       "\t  8      &  300000 &  64     &  512    &  4096   &  32768 \\\\\n",
       "\t  9      &  500000 &  81     &  729    &  6561   &  59049 \\\\\n",
       "\t 10      & 1000000 & 100     & 1000    & 10000   & 100000 \\\\\n",
       "\\end{tabular}\n"
      ],
      "text/markdown": [
       "\n",
       "| Level | Salary | Level2 | Level3 | Level4 | Level5 |\n",
       "|---|---|---|---|---|---|\n",
       "|  1      |   45000 |   1     |    1    |     1   |      1  |\n",
       "|  2      |   50000 |   4     |    8    |    16   |     32  |\n",
       "|  3      |   60000 |   9     |   27    |    81   |    243  |\n",
       "|  4      |   80000 |  16     |   64    |   256   |   1024  |\n",
       "|  5      |  110000 |  25     |  125    |   625   |   3125  |\n",
       "|  6      |  150000 |  36     |  216    |  1296   |   7776  |\n",
       "|  7      |  200000 |  49     |  343    |  2401   |  16807  |\n",
       "|  8      |  300000 |  64     |  512    |  4096   |  32768  |\n",
       "|  9      |  500000 |  81     |  729    |  6561   |  59049  |\n",
       "| 10      | 1000000 | 100     | 1000    | 10000   | 100000  |\n",
       "\n"
      ],
      "text/plain": [
       "   Level Salary  Level2 Level3 Level4 Level5\n",
       "1   1      45000   1       1       1       1\n",
       "2   2      50000   4       8      16      32\n",
       "3   3      60000   9      27      81     243\n",
       "4   4      80000  16      64     256    1024\n",
       "5   5     110000  25     125     625    3125\n",
       "6   6     150000  36     216    1296    7776\n",
       "7   7     200000  49     343    2401   16807\n",
       "8   8     300000  64     512    4096   32768\n",
       "9   9     500000  81     729    6561   59049\n",
       "10 10    1000000 100    1000   10000  100000"
      ]
     },
     "metadata": {},
     "output_type": "display_data"
    }
   ],
   "source": [
    "data"
   ]
  },
  {
   "cell_type": "code",
   "execution_count": 27,
   "metadata": {},
   "outputs": [],
   "source": [
    "poly_reg <- lm(formula = Salary ~ .,\n",
    "              data = data)"
   ]
  },
  {
   "cell_type": "code",
   "execution_count": 14,
   "metadata": {},
   "outputs": [
    {
     "data": {
      "text/plain": [
       "\n",
       "Call:\n",
       "lm(formula = Salary ~ ., data = data)\n",
       "\n",
       "Residuals:\n",
       "     1      2      3      4      5      6      7      8      9     10 \n",
       " -8357  18240   1358 -14633 -11725   6725  15997  10006 -28695  11084 \n",
       "\n",
       "Coefficients:\n",
       "             Estimate Std. Error t value Pr(>|t|)   \n",
       "(Intercept)  184166.7    67768.0   2.718  0.04189 * \n",
       "Level       -211002.3    76382.2  -2.762  0.03972 * \n",
       "Level2        94765.4    26454.2   3.582  0.01584 * \n",
       "Level3       -15463.3     3535.0  -4.374  0.00719 **\n",
       "Level4          890.2      159.8   5.570  0.00257 **\n",
       "---\n",
       "Signif. codes:  0 '***' 0.001 '**' 0.01 '*' 0.05 '.' 0.1 ' ' 1\n",
       "\n",
       "Residual standard error: 20510 on 5 degrees of freedom\n",
       "Multiple R-squared:  0.9974,\tAdjusted R-squared:  0.9953 \n",
       "F-statistic: 478.1 on 4 and 5 DF,  p-value: 1.213e-06\n"
      ]
     },
     "metadata": {},
     "output_type": "display_data"
    }
   ],
   "source": [
    "summary(poly_reg)"
   ]
  },
  {
   "cell_type": "code",
   "execution_count": 15,
   "metadata": {},
   "outputs": [],
   "source": [
    "library(ggplot2)"
   ]
  },
  {
   "cell_type": "code",
   "execution_count": 23,
   "metadata": {
    "scrolled": true
   },
   "outputs": [
    {
     "ename": "ERROR",
     "evalue": "Error in xlab(\"Level\") + ylab(\"Salary\"): non-numeric argument to binary operator\n",
     "output_type": "error",
     "traceback": [
      "Error in xlab(\"Level\") + ylab(\"Salary\"): non-numeric argument to binary operator\nTraceback:\n"
     ]
    },
    {
     "data": {
      "image/png": "[encoded data removed]",
      "text/plain": [
       "plot without title"
      ]
     },
     "metadata": {},
     "output_type": "display_data"
    }
   ],
   "source": [
    "ggplot() +\n",
    "geom_point(aes(x = data$Level, y = data$Salary), color = 'red') +\n",
    "geom_line(aes(x = data$Level, y = predict(lin_reg, newdata = data)), color = 'blue')\n",
    "xlab('Level') +\n",
    "ylab('Salary')"
   ]
  },
  {
   "cell_type": "code",
   "execution_count": 28,
   "metadata": {},
   "outputs": [
    {
     "ename": "ERROR",
     "evalue": "Error in xlab(\"Level\") + ylab(\"Salary\"): non-numeric argument to binary operator\n",
     "output_type": "error",
     "traceback": [
      "Error in xlab(\"Level\") + ylab(\"Salary\"): non-numeric argument to binary operator\nTraceback:\n"
     ]
    },
    {
     "data": {
      "image/png": "[encoded data removed]",
      "text/plain": [
       "plot without title"
      ]
     },
     "metadata": {},
     "output_type": "display_data"
    }
   ],
   "source": [
    "ggplot() +\n",
    "geom_point(aes(x = data$Level, y = data$Salary), color = 'red') +\n",
    "geom_line(aes(x = data$Level, y = predict(poly_reg, newdata = data)), color = 'blue')\n",
    "xlab('Level') +\n",
    "ylab('Salary')"
   ]
  },
  {
   "cell_type": "code",
   "execution_count": null,
   "metadata": {},
   "outputs": [],
   "source": []
  }
 ],
 "metadata": {
  "kernelspec": {
   "display_name": "R",
   "language": "R",
   "name": "ir"
  },
  "language_info": {
   "codemirror_mode": "r",
   "file_extension": ".r",
   "mimetype": "text/x-r-source",
   "name": "R",
   "pygments_lexer": "r",
   "version": "3.6.1"
  }
 },
 "nbformat": 4,
 "nbformat_minor": 2
}
